{
 "cells": [
  {
   "cell_type": "markdown",
   "metadata": {},
   "source": [
    "# Exploração de dados de aceitação de tecnologia"
   ]
  },
  {
   "cell_type": "code",
   "execution_count": 3,
   "metadata": {},
   "outputs": [],
   "source": [
    "import pandas as pd\n",
    "import numpy as np\n",
    "\n",
    "pd.set_option(\"display.max_columns\", 100)\n",
    "% matplotlib inline\n",
    "\n",
    "aceitacao_df = pd.read_csv(\"dataset.csv\")"
   ]
  },
  {
   "cell_type": "markdown",
   "metadata": {},
   "source": [
    "## Dataset de aceitação de tecnologia\n",
    "\n",
    "Cada variável coletada (Prazer_1, Prazer_2, ...) pode possui valores inteiros de 1 a 5 obtidos através de uma escala de Likert. Uma descrição mais detalhada do dataset é apresentada no arquivo _descricao.md"
   ]
  },
  {
   "cell_type": "code",
   "execution_count": 4,
   "metadata": {},
   "outputs": [
    {
     "data": {
      "text/html": [
       "<div>\n",
       "<style scoped>\n",
       "    .dataframe tbody tr th:only-of-type {\n",
       "        vertical-align: middle;\n",
       "    }\n",
       "\n",
       "    .dataframe tbody tr th {\n",
       "        vertical-align: top;\n",
       "    }\n",
       "\n",
       "    .dataframe thead th {\n",
       "        text-align: right;\n",
       "    }\n",
       "</style>\n",
       "<table border=\"1\" class=\"dataframe\">\n",
       "  <thead>\n",
       "    <tr style=\"text-align: right;\">\n",
       "      <th></th>\n",
       "      <th>ID</th>\n",
       "      <th>Idade</th>\n",
       "      <th>Sexo</th>\n",
       "      <th>InstEnsi</th>\n",
       "      <th>Jogou</th>\n",
       "      <th>Console</th>\n",
       "      <th>TDeUso</th>\n",
       "      <th>Prazer_1</th>\n",
       "      <th>Prazer_2</th>\n",
       "      <th>Prazer_3</th>\n",
       "      <th>Prazer_4</th>\n",
       "      <th>Prazer_5</th>\n",
       "      <th>Prazer_6</th>\n",
       "      <th>Prazer_7</th>\n",
       "      <th>Prazer_8</th>\n",
       "      <th>Facil_1</th>\n",
       "      <th>Facil_2</th>\n",
       "      <th>Facil_3</th>\n",
       "      <th>Facil_4</th>\n",
       "      <th>Facil_5</th>\n",
       "      <th>Facil_6</th>\n",
       "      <th>Utilid_1</th>\n",
       "      <th>Utilid_2</th>\n",
       "      <th>Utilid_3</th>\n",
       "      <th>Utilid_4</th>\n",
       "      <th>Desejo_1</th>\n",
       "      <th>Desejo_2</th>\n",
       "      <th>Desejo_3</th>\n",
       "      <th>Desejo_4</th>\n",
       "      <th>Intens_1</th>\n",
       "      <th>Intens_2</th>\n",
       "      <th>Intens_3</th>\n",
       "      <th>UsoAt_1</th>\n",
       "      <th>UsoAt_2</th>\n",
       "      <th>UsoLik_1</th>\n",
       "      <th>UsoLik_2</th>\n",
       "    </tr>\n",
       "  </thead>\n",
       "  <tbody>\n",
       "    <tr>\n",
       "      <th>0</th>\n",
       "      <td>1</td>\n",
       "      <td>21</td>\n",
       "      <td>1</td>\n",
       "      <td>1</td>\n",
       "      <td>2</td>\n",
       "      <td>0</td>\n",
       "      <td>6.0</td>\n",
       "      <td>4</td>\n",
       "      <td>3</td>\n",
       "      <td>4</td>\n",
       "      <td>3</td>\n",
       "      <td>4</td>\n",
       "      <td>4</td>\n",
       "      <td>4</td>\n",
       "      <td>3</td>\n",
       "      <td>5</td>\n",
       "      <td>2</td>\n",
       "      <td>3</td>\n",
       "      <td>3</td>\n",
       "      <td>3</td>\n",
       "      <td>2</td>\n",
       "      <td>3</td>\n",
       "      <td>4</td>\n",
       "      <td>3</td>\n",
       "      <td>4</td>\n",
       "      <td>2</td>\n",
       "      <td>3</td>\n",
       "      <td>4</td>\n",
       "      <td>3</td>\n",
       "      <td>2</td>\n",
       "      <td>4</td>\n",
       "      <td>4</td>\n",
       "      <td>7</td>\n",
       "      <td>0</td>\n",
       "      <td>4</td>\n",
       "      <td>1</td>\n",
       "    </tr>\n",
       "    <tr>\n",
       "      <th>1</th>\n",
       "      <td>2</td>\n",
       "      <td>19</td>\n",
       "      <td>1</td>\n",
       "      <td>1</td>\n",
       "      <td>3</td>\n",
       "      <td>0</td>\n",
       "      <td>1.0</td>\n",
       "      <td>5</td>\n",
       "      <td>5</td>\n",
       "      <td>3</td>\n",
       "      <td>4</td>\n",
       "      <td>5</td>\n",
       "      <td>5</td>\n",
       "      <td>5</td>\n",
       "      <td>5</td>\n",
       "      <td>1</td>\n",
       "      <td>4</td>\n",
       "      <td>5</td>\n",
       "      <td>5</td>\n",
       "      <td>5</td>\n",
       "      <td>5</td>\n",
       "      <td>5</td>\n",
       "      <td>5</td>\n",
       "      <td>4</td>\n",
       "      <td>4</td>\n",
       "      <td>4</td>\n",
       "      <td>4</td>\n",
       "      <td>4</td>\n",
       "      <td>5</td>\n",
       "      <td>5</td>\n",
       "      <td>1</td>\n",
       "      <td>3</td>\n",
       "      <td>3</td>\n",
       "      <td>15</td>\n",
       "      <td>3</td>\n",
       "      <td>3</td>\n",
       "    </tr>\n",
       "    <tr>\n",
       "      <th>2</th>\n",
       "      <td>3</td>\n",
       "      <td>22</td>\n",
       "      <td>1</td>\n",
       "      <td>0</td>\n",
       "      <td>2</td>\n",
       "      <td>0</td>\n",
       "      <td>6.0</td>\n",
       "      <td>4</td>\n",
       "      <td>2</td>\n",
       "      <td>1</td>\n",
       "      <td>1</td>\n",
       "      <td>4</td>\n",
       "      <td>4</td>\n",
       "      <td>5</td>\n",
       "      <td>5</td>\n",
       "      <td>1</td>\n",
       "      <td>3</td>\n",
       "      <td>3</td>\n",
       "      <td>3</td>\n",
       "      <td>5</td>\n",
       "      <td>5</td>\n",
       "      <td>1</td>\n",
       "      <td>4</td>\n",
       "      <td>5</td>\n",
       "      <td>3</td>\n",
       "      <td>1</td>\n",
       "      <td>1</td>\n",
       "      <td>1</td>\n",
       "      <td>1</td>\n",
       "      <td>1</td>\n",
       "      <td>1</td>\n",
       "      <td>1</td>\n",
       "      <td>0</td>\n",
       "      <td>0</td>\n",
       "      <td>1</td>\n",
       "      <td>1</td>\n",
       "    </tr>\n",
       "    <tr>\n",
       "      <th>3</th>\n",
       "      <td>4</td>\n",
       "      <td>21</td>\n",
       "      <td>0</td>\n",
       "      <td>1</td>\n",
       "      <td>1</td>\n",
       "      <td>0</td>\n",
       "      <td>3.0</td>\n",
       "      <td>5</td>\n",
       "      <td>5</td>\n",
       "      <td>5</td>\n",
       "      <td>3</td>\n",
       "      <td>2</td>\n",
       "      <td>1</td>\n",
       "      <td>3</td>\n",
       "      <td>3</td>\n",
       "      <td>1</td>\n",
       "      <td>1</td>\n",
       "      <td>1</td>\n",
       "      <td>5</td>\n",
       "      <td>5</td>\n",
       "      <td>4</td>\n",
       "      <td>1</td>\n",
       "      <td>1</td>\n",
       "      <td>1</td>\n",
       "      <td>1</td>\n",
       "      <td>5</td>\n",
       "      <td>5</td>\n",
       "      <td>1</td>\n",
       "      <td>3</td>\n",
       "      <td>5</td>\n",
       "      <td>5</td>\n",
       "      <td>3</td>\n",
       "      <td>3</td>\n",
       "      <td>15</td>\n",
       "      <td>3</td>\n",
       "      <td>3</td>\n",
       "    </tr>\n",
       "    <tr>\n",
       "      <th>4</th>\n",
       "      <td>5</td>\n",
       "      <td>25</td>\n",
       "      <td>1</td>\n",
       "      <td>1</td>\n",
       "      <td>1</td>\n",
       "      <td>0</td>\n",
       "      <td>10.0</td>\n",
       "      <td>4</td>\n",
       "      <td>4</td>\n",
       "      <td>3</td>\n",
       "      <td>2</td>\n",
       "      <td>3</td>\n",
       "      <td>3</td>\n",
       "      <td>4</td>\n",
       "      <td>3</td>\n",
       "      <td>3</td>\n",
       "      <td>3</td>\n",
       "      <td>4</td>\n",
       "      <td>3</td>\n",
       "      <td>3</td>\n",
       "      <td>4</td>\n",
       "      <td>3</td>\n",
       "      <td>3</td>\n",
       "      <td>4</td>\n",
       "      <td>3</td>\n",
       "      <td>3</td>\n",
       "      <td>3</td>\n",
       "      <td>3</td>\n",
       "      <td>2</td>\n",
       "      <td>3</td>\n",
       "      <td>4</td>\n",
       "      <td>2</td>\n",
       "      <td>1</td>\n",
       "      <td>0</td>\n",
       "      <td>2</td>\n",
       "      <td>1</td>\n",
       "    </tr>\n",
       "  </tbody>\n",
       "</table>\n",
       "</div>"
      ],
      "text/plain": [
       "   ID  Idade  Sexo  InstEnsi  Jogou  Console  TDeUso  Prazer_1  Prazer_2  \\\n",
       "0   1     21     1         1      2        0     6.0         4         3   \n",
       "1   2     19     1         1      3        0     1.0         5         5   \n",
       "2   3     22     1         0      2        0     6.0         4         2   \n",
       "3   4     21     0         1      1        0     3.0         5         5   \n",
       "4   5     25     1         1      1        0    10.0         4         4   \n",
       "\n",
       "   Prazer_3  Prazer_4  Prazer_5  Prazer_6  Prazer_7  Prazer_8  Facil_1  \\\n",
       "0         4         3         4         4         4         3        5   \n",
       "1         3         4         5         5         5         5        1   \n",
       "2         1         1         4         4         5         5        1   \n",
       "3         5         3         2         1         3         3        1   \n",
       "4         3         2         3         3         4         3        3   \n",
       "\n",
       "   Facil_2  Facil_3  Facil_4  Facil_5  Facil_6  Utilid_1  Utilid_2  Utilid_3  \\\n",
       "0        2        3        3        3        2         3         4         3   \n",
       "1        4        5        5        5        5         5         5         4   \n",
       "2        3        3        3        5        5         1         4         5   \n",
       "3        1        1        5        5        4         1         1         1   \n",
       "4        3        4        3        3        4         3         3         4   \n",
       "\n",
       "   Utilid_4  Desejo_1  Desejo_2  Desejo_3  Desejo_4  Intens_1  Intens_2  \\\n",
       "0         4         2         3         4         3         2         4   \n",
       "1         4         4         4         4         5         5         1   \n",
       "2         3         1         1         1         1         1         1   \n",
       "3         1         5         5         1         3         5         5   \n",
       "4         3         3         3         3         2         3         4   \n",
       "\n",
       "   Intens_3  UsoAt_1  UsoAt_2  UsoLik_1  UsoLik_2  \n",
       "0         4        7        0         4         1  \n",
       "1         3        3       15         3         3  \n",
       "2         1        0        0         1         1  \n",
       "3         3        3       15         3         3  \n",
       "4         2        1        0         2         1  "
      ]
     },
     "execution_count": 4,
     "metadata": {},
     "output_type": "execute_result"
    }
   ],
   "source": [
    "aceitacao_df.head()"
   ]
  },
  {
   "cell_type": "markdown",
   "metadata": {},
   "source": [
    "## Distribuição das variáveis que descrevem o perfil da amostra"
   ]
  },
  {
   "cell_type": "code",
   "execution_count": 15,
   "metadata": {},
   "outputs": [
    {
     "data": {
      "image/png": "[encoded data removed]",
      "text/plain": [
       "<matplotlib.figure.Figure at 0x247c23b1da0>"
      ]
     },
     "metadata": {},
     "output_type": "display_data"
    }
   ],
   "source": [
    "graph = aceitacao_df[[\"Idade\", \"Sexo\", \"InstEnsi\", \"Jogou\", \"TDeUso\"]].hist(figsize=(18, 10))"
   ]
  },
  {
   "cell_type": "markdown",
   "metadata": {},
   "source": [
    "### Distribuição do público masculino"
   ]
  },
  {
   "cell_type": "code",
   "execution_count": 14,
   "metadata": {},
   "outputs": [
    {
     "data": {
      "image/png": "[encoded data removed]",
      "text/plain": [
       "<matplotlib.figure.Figure at 0x247c31c9080>"
      ]
     },
     "metadata": {},
     "output_type": "display_data"
    }
   ],
   "source": [
    "graph = aceitacao_df[[\"Idade\", \"Sexo\", \"InstEnsi\", \"Jogou\", \"TDeUso\"]][aceitacao_df[\"Sexo\"] == 1].hist(figsize=(18, 10))"
   ]
  },
  {
   "cell_type": "markdown",
   "metadata": {},
   "source": [
    "### Distribuição do público feminino"
   ]
  },
  {
   "cell_type": "code",
   "execution_count": 13,
   "metadata": {},
   "outputs": [
    {
     "data": {
      "image/png": "[encoded data removed]",
      "text/plain": [
       "<matplotlib.figure.Figure at 0x247c27d0da0>"
      ]
     },
     "metadata": {},
     "output_type": "display_data"
    }
   ],
   "source": [
    "graph = aceitacao_df[[\"Idade\", \"Sexo\", \"InstEnsi\", \"Jogou\", \"TDeUso\"]][aceitacao_df[\"Sexo\"] == 0].hist(figsize=(18, 10))"
   ]
  },
  {
   "cell_type": "markdown",
   "metadata": {},
   "source": [
    "# É possível prever o uso através das outras informações do questionário?\n",
    "\n",
    "As variáveis que informam o uso são UsoLik_1 e UsoLik_2. "
   ]
  },
  {
   "cell_type": "code",
   "execution_count": 22,
   "metadata": {},
   "outputs": [
    {
     "data": {
      "image/png": "[encoded data removed]",
      "text/plain": [
       "<matplotlib.figure.Figure at 0x247c1f87278>"
      ]
     },
     "metadata": {},
     "output_type": "display_data"
    }
   ],
   "source": [
    "graph = aceitacao_df[[\"UsoLik_1\", \"UsoLik_2\"]].hist(figsize=(18, 5))"
   ]
  },
  {
   "cell_type": "markdown",
   "metadata": {},
   "source": [
    "### Utilizando os algoritmo SVM e RandomForest para classificação\n",
    "\n",
    "O código abaixo realiza uma busca em grid nos parâmetros dos modelos com a finalidade de encontrar o melhor modelo que se ajusta ao conjunto de dados. Para cada modelo testado utiliza-se a validação cruzada com 5 folds. As métricas de avaliação computadas são precision, recall e f1-score."
   ]
  },
  {
   "cell_type": "code",
   "execution_count": 65,
   "metadata": {},
   "outputs": [
    {
     "name": "stdout",
     "output_type": "stream",
     "text": [
      "Automatically created module for IPython interactive environment\n"
     ]
    }
   ],
   "source": [
    "import warnings\n",
    "warnings.filterwarnings('ignore')\n",
    "\n",
    "from __future__ import print_function\n",
    "\n",
    "from sklearn.model_selection import train_test_split\n",
    "from sklearn.model_selection import GridSearchCV\n",
    "from sklearn.metrics import classification_report\n",
    "from sklearn.svm import SVC\n",
    "from sklearn.ensemble import RandomForestClassifier\n",
    "\n",
    "print(__doc__)\n",
    "\n",
    "\n",
    "def runModel(X, y, model = \"RandomForest\"):\n",
    "    n_samples = len(y)\n",
    "\n",
    "    # Split the dataset in two equal parts\n",
    "    X_train, X_test, y_train, y_test = train_test_split(X, y, test_size=0.3, random_state=0)\n",
    "\n",
    "    # Set the parameters by cross-validation\n",
    "    svm_params = [{'kernel': ['rbf'], 'gamma': [1e-3, 1e-4], 'C': [1, 10, 100, 1000]},\n",
    "                        {'kernel': ['linear'], 'C': [1, 10, 100, 1000]}]\n",
    "\n",
    "    rfo_params  = {\"max_depth\": [3, None],\n",
    "                  \"max_features\": [1, 3, 10],\n",
    "                  \"min_samples_split\": [2, 3, 10],\n",
    "                  \"min_samples_leaf\": [1, 3, 10],\n",
    "                  \"bootstrap\": [True, False],\n",
    "                  \"criterion\": [\"gini\", \"entropy\"]}\n",
    "\n",
    "    svm_clf = SVC()\n",
    "\n",
    "    rfo_clf = RandomForestClassifier(n_estimators=20)\n",
    "\n",
    "    if(model == \"RandomForest\"): _clf, tuned_parameters = rfo_clf, rfo_params\n",
    "    else: _clf, tuned_parameters = svm_clf, svm_params\n",
    "\n",
    "    scores = ['precision']#, 'recall']\n",
    "\n",
    "    for score in scores:\n",
    "        print(\"# Tuning hyper-parameters for %s\" % score)\n",
    "        print()\n",
    "\n",
    "        clf = GridSearchCV(_clf, tuned_parameters, cv=5, scoring='%s_macro' % score)\n",
    "        clf.fit(X_train, y_train)\n",
    "\n",
    "        print(\"Best parameters set found on development set:\")\n",
    "        print()\n",
    "        print(clf.best_params_)\n",
    "        print()\n",
    "        #print(\"Grid scores on development set:\")\n",
    "        #print()\n",
    "\n",
    "        means = clf.cv_results_['mean_test_score']\n",
    "        stds = clf.cv_results_['std_test_score']\n",
    "\n",
    "        #for mean, std, params in zip(means, stds, clf.cv_results_['params']):\n",
    "        #    print(\"%0.3f (+/-%0.03f) for %r\"% (mean, std * 2, params))\n",
    "        #print()\n",
    "\n",
    "        print(\"Detailed classification report:\")\n",
    "        print()\n",
    "        print(\"The model is trained on the full development set.\")\n",
    "        print(\"The scores are computed on the full evaluation set.\")\n",
    "        print()\n",
    "        y_true, y_pred = y_test, clf.predict(X_test)\n",
    "        print(classification_report(y_true, y_pred))\n",
    "        print()\n",
    "\n",
    "    # Note the problem is too easy: the hyperparameter plateau is too flat and the\n",
    "    # output model is the same for precision and recall with ties in quality."
   ]
  },
  {
   "cell_type": "markdown",
   "metadata": {},
   "source": [
    "## Preparação do dataset"
   ]
  },
  {
   "cell_type": "code",
   "execution_count": 66,
   "metadata": {},
   "outputs": [],
   "source": [
    "X = aceitacao_df[[\"Idade\",        \"Sexo\", \"Prazer_1\", \"Prazer_2\", \"Prazer_3\", \"Prazer_4\", \"Prazer_5\", \"Prazer_6\", \n",
    "                  \"Prazer_7\", \"Prazer_8\", \"Facil_1\",  \"Facil_2\",  \"Facil_3\",  \"Facil_4\",  \"Facil_5\",  \"Facil_6\", \n",
    "                  \"Utilid_1\", \"Utilid_2\", \"Utilid_3\", \"Utilid_4\", \"Desejo_1\", \"Desejo_2\", \"Desejo_3\", \"Desejo_4\", \n",
    "                  \"Intens_1\", \"Intens_2\", \"Intens_3\"]].values"
   ]
  },
  {
   "cell_type": "code",
   "execution_count": 68,
   "metadata": {
    "scrolled": false
   },
   "outputs": [
    {
     "name": "stdout",
     "output_type": "stream",
     "text": [
      "# Tuning hyper-parameters for precision\n",
      "\n",
      "Best parameters set found on development set:\n",
      "\n",
      "{'bootstrap': False, 'criterion': 'entropy', 'max_depth': None, 'max_features': 1, 'min_samples_leaf': 1, 'min_samples_split': 10}\n",
      "\n",
      "Detailed classification report:\n",
      "\n",
      "The model is trained on the full development set.\n",
      "The scores are computed on the full evaluation set.\n",
      "\n",
      "             precision    recall  f1-score   support\n",
      "\n",
      "          1       0.33      0.91      0.49        11\n",
      "          2       0.50      0.23      0.32        13\n",
      "          3       0.20      0.10      0.13        10\n",
      "          4       0.25      0.14      0.18         7\n",
      "          5       0.00      0.00      0.00         4\n",
      "\n",
      "avg / total       0.31      0.33      0.27        45\n",
      "\n",
      "\n"
     ]
    }
   ],
   "source": [
    "y = aceitacao_df[\"UsoLik_1\"].values\n",
    "runModel(X,y,\"RandomForest\")"
   ]
  },
  {
   "cell_type": "code",
   "execution_count": 70,
   "metadata": {
    "scrolled": false
   },
   "outputs": [
    {
     "name": "stdout",
     "output_type": "stream",
     "text": [
      "# Tuning hyper-parameters for precision\n",
      "\n",
      "Best parameters set found on development set:\n",
      "\n",
      "{'bootstrap': True, 'criterion': 'entropy', 'max_depth': None, 'max_features': 10, 'min_samples_leaf': 10, 'min_samples_split': 10}\n",
      "\n",
      "Detailed classification report:\n",
      "\n",
      "The model is trained on the full development set.\n",
      "The scores are computed on the full evaluation set.\n",
      "\n",
      "             precision    recall  f1-score   support\n",
      "\n",
      "          1       0.39      0.93      0.55        14\n",
      "          2       0.43      0.14      0.21        22\n",
      "          3       0.20      0.17      0.18         6\n",
      "          4       0.00      0.00      0.00         3\n",
      "\n",
      "avg / total       0.36      0.38      0.30        45\n",
      "\n",
      "\n"
     ]
    }
   ],
   "source": [
    "y = aceitacao_df[\"UsoLik_2\"].values\n",
    "runModel(X,y,\"RandomForest\")"
   ]
  },
  {
   "cell_type": "markdown",
   "metadata": {},
   "source": [
    "A partir do resultado obtido pouco pode se dizer sobre a explicação da variável UsoLik_1 a partir das demais, entretando a quantidade de dados é muito baixa para um problema multiclasse com alta dimensionalidade. A fim de amenizar este problema, existe a possibilidade de tratá-lo como um **problema binário**. Uma vez que a variável de saída é uma escala de uso, pode-se dividir de forma que uma classe represente grupo cuja **frequência não chega a ser semanal** e a segunda classe represente o grupo que joga **pelo menos uma vez por semana**."
   ]
  },
  {
   "cell_type": "code",
   "execution_count": 75,
   "metadata": {},
   "outputs": [
    {
     "name": "stdout",
     "output_type": "stream",
     "text": [
      "# Tuning hyper-parameters for precision\n",
      "\n",
      "Best parameters set found on development set:\n",
      "\n",
      "{'bootstrap': True, 'criterion': 'gini', 'max_depth': 3, 'max_features': 3, 'min_samples_leaf': 10, 'min_samples_split': 2}\n",
      "\n",
      "Detailed classification report:\n",
      "\n",
      "The model is trained on the full development set.\n",
      "The scores are computed on the full evaluation set.\n",
      "\n",
      "             precision    recall  f1-score   support\n",
      "\n",
      "          1       0.78      0.64      0.70        11\n",
      "          2       0.89      0.94      0.91        34\n",
      "\n",
      "avg / total       0.86      0.87      0.86        45\n",
      "\n",
      "\n"
     ]
    }
   ],
   "source": [
    "y = aceitacao_df[\"UsoLik_1\"].apply(lambda x: 1 if x < 2 else 2).values\n",
    "runModel(X,y,\"RandomForest\")"
   ]
  },
  {
   "cell_type": "markdown",
   "metadata": {},
   "source": [
    "Neste segundo caso, é possível observar um indício de relação de causalidade. "
   ]
  },
  {
   "cell_type": "code",
   "execution_count": null,
   "metadata": {},
   "outputs": [],
   "source": []
  }
 ],
 "metadata": {
  "kernelspec": {
   "display_name": "Python 3",
   "language": "python",
   "name": "python3"
  },
  "language_info": {
   "codemirror_mode": {
    "name": "ipython",
    "version": 3
   },
   "file_extension": ".py",
   "mimetype": "text/x-python",
   "name": "python",
   "nbconvert_exporter": "python",
   "pygments_lexer": "ipython3",
   "version": "3.6.4"
  }
 },
 "nbformat": 4,
 "nbformat_minor": 2
}
